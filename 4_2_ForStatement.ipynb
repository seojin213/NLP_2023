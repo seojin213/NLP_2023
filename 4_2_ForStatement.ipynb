{
  "nbformat": 4,
  "nbformat_minor": 0,
  "metadata": {
    "colab": {
      "provenance": [],
      "include_colab_link": true
    },
    "kernelspec": {
      "name": "python3",
      "display_name": "Python 3"
    },
    "language_info": {
      "name": "python"
    }
  },
  "cells": [
    {
      "cell_type": "markdown",
      "metadata": {
        "id": "view-in-github",
        "colab_type": "text"
      },
      "source": [
        "<a href=\"https://colab.research.google.com/github/seojin213/NLP_2023/blob/main/4_2_ForStatement.ipynb\" target=\"_parent\"><img src=\"https://colab.research.google.com/assets/colab-badge.svg\" alt=\"Open In Colab\"/></a>"
      ]
    },
    {
      "cell_type": "markdown",
      "source": [
        "# 🅰️ **FOR statement** 🔄 Loop  \n",
        "\"for statement\" enable you to extract each one of elements (i.e., from 1st element to the last from an object객체 or a certain range of data특정 범위의 자료).\n",
        "\n",
        "- #### <font color='red'> Example</font> from 파이썬 200제\n",
        "\n",
        "        for 구성요소 in 범위:  #list, tuple, dictionary, range\n",
        "            반복으로 실행할 코드 #e.g., 수행할 문장\n",
        "        \n",
        "          or/and  \n",
        "\n",
        "        for 아래 코드라인 변수 in 범위:\n",
        "            반복으로 실행할 코드  #e.g., 수행할 문장\n"
      ],
      "metadata": {
        "id": "4F2oj2G8OITt"
      }
    },
    {
      "cell_type": "code",
      "execution_count": 1,
      "metadata": {
        "id": "j0T81ZhAm6vm",
        "outputId": "fa4ca2be-6f14-4417-c5fe-0b9fef65758b",
        "colab": {
          "base_uri": "https://localhost:8080/"
        }
      },
      "outputs": [
        {
          "output_type": "stream",
          "name": "stdout",
          "text": [
            "1\n",
            "2\n",
            "3\n",
            "4\n",
            "5\n",
            "6\n",
            "7\n",
            "8\n",
            "9\n"
          ]
        }
      ],
      "source": [
        "numbers = 1,2,3,4,5,6,7,8,9\n",
        "\n",
        "for i in numbers: # 'i' represents for integers.\n",
        "  print(i)"
      ]
    },
    {
      "cell_type": "code",
      "source": [
        "numbers = 1,2,3,4,5,6,7,8,9\n",
        "\n",
        "for i in numbers: # 'i' represents for integers.\n",
        "  print(i)"
      ],
      "metadata": {
        "id": "t3ZhSQTZ2xTd",
        "outputId": "3014ca20-34a5-4df9-cf33-ea0add5a0575",
        "colab": {
          "base_uri": "https://localhost:8080/"
        }
      },
      "execution_count": 2,
      "outputs": [
        {
          "output_type": "stream",
          "name": "stdout",
          "text": [
            "1\n",
            "2\n",
            "3\n",
            "4\n",
            "5\n",
            "6\n",
            "7\n",
            "8\n",
            "9\n"
          ]
        }
      ]
    },
    {
      "cell_type": "code",
      "source": [
        "number= 1,2,3,4,5\n",
        "for i in number: # 'i' represents for integers."
      ],
      "metadata": {
        "id": "HTjBdccA4DMP",
        "outputId": "a8ba7179-284a-4e4f-c494-d7057c898878",
        "colab": {
          "base_uri": "https://localhost:8080/",
          "height": 147
        }
      },
      "execution_count": 7,
      "outputs": [
        {
          "output_type": "error",
          "ename": "SyntaxError",
          "evalue": "ignored",
          "traceback": [
            "\u001b[0;36m  File \u001b[0;32m\"<ipython-input-7-e60b908d7883>\"\u001b[0;36m, line \u001b[0;32m2\u001b[0m\n\u001b[0;31m    for i in number: # 'i' represents for integers.\u001b[0m\n\u001b[0m                                                   ^\u001b[0m\n\u001b[0;31mSyntaxError\u001b[0m\u001b[0;31m:\u001b[0m incomplete input\n"
          ]
        }
      ]
    },
    {
      "cell_type": "code",
      "source": [
        "#@markdown Similar exercise for a For Statement.\n",
        "\n",
        "scope = [1,2,3,4,5]\n",
        "\n",
        "for x in scope: # Any alphabet of your choice can be anything after \"for\" work.\n",
        "  print(x)"
      ],
      "metadata": {
        "id": "yg6N6sHSElwD",
        "outputId": "d7380eef-1262-4741-fbd3-b7ef1f823641",
        "colab": {
          "base_uri": "https://localhost:8080/"
        }
      },
      "execution_count": null,
      "outputs": [
        {
          "output_type": "stream",
          "name": "stdout",
          "text": [
            "1\n",
            "2\n",
            "3\n",
            "4\n",
            "5\n"
          ]
        }
      ]
    },
    {
      "cell_type": "code",
      "source": [
        "scope = [1,2,3,4,5]\n",
        "for x in scope: # Any alphabet of your choice can be anything after \"for\" work.\n",
        "  print(x)"
      ],
      "metadata": {
        "id": "VRrUvako40GR",
        "outputId": "ddee20e6-8d42-4c17-dad1-b09d5da3acdf",
        "colab": {
          "base_uri": "https://localhost:8080/"
        }
      },
      "execution_count": 8,
      "outputs": [
        {
          "output_type": "stream",
          "name": "stdout",
          "text": [
            "1\n",
            "2\n",
            "3\n",
            "4\n",
            "5\n"
          ]
        }
      ]
    },
    {
      "cell_type": "code",
      "source": [
        "scope = [1,2,3,4,5]\n",
        "\n",
        "for x in scope: # Any alphabet of your choice can be anything after \"for\" work.\n",
        "  print(x)"
      ],
      "metadata": {
        "id": "h2j4YU3Y3qNi"
      },
      "execution_count": null,
      "outputs": []
    },
    {
      "cell_type": "code",
      "source": [
        "#@markdown Similar exercise for a For Statement.\n",
        "\n",
        "scope = [1,2,3,4,5]\n",
        "\n",
        "for y in scope: # An alphabet can be anything you like after 'for'.\n",
        "  print(y)"
      ],
      "metadata": {
        "id": "NdwPi8lpFMXZ",
        "outputId": "d8551c84-e290-4f7a-b039-661fcb478746",
        "colab": {
          "base_uri": "https://localhost:8080/"
        }
      },
      "execution_count": null,
      "outputs": [
        {
          "output_type": "stream",
          "name": "stdout",
          "text": [
            "1\n",
            "2\n",
            "3\n",
            "4\n",
            "5\n"
          ]
        }
      ]
    },
    {
      "cell_type": "markdown",
      "source": [
        "##👀 Before you run the following code lines for a FOR Statement, you need to know the following.\n",
        "\n",
        "💊 Objects객체 used in FOR statements are i) string, ii) list or tuple, iii) dictionary, iv) range(). They are characterized by repeatable objects.  \n",
        "\n",
        "    The results depend on the number in (range 범위).\n",
        "    e.g., range(0) ➡️  NONE, range(1) ➡️ 0, range(2) ➡️ 0,1, etc.  \n",
        "\n"
      ],
      "metadata": {
        "id": "qkd3saTwMQxP"
      }
    },
    {
      "cell_type": "code",
      "source": [
        "for i in range(1):\n",
        "  print (i)\n",
        "\n",
        "type(i)"
      ],
      "metadata": {
        "id": "0EEhWrh3nNih",
        "outputId": "7581d04d-6b08-4a26-da00-285c62484ac9",
        "colab": {
          "base_uri": "https://localhost:8080/"
        }
      },
      "execution_count": null,
      "outputs": [
        {
          "output_type": "stream",
          "name": "stdout",
          "text": [
            "0\n"
          ]
        },
        {
          "output_type": "execute_result",
          "data": {
            "text/plain": [
              "int"
            ]
          },
          "metadata": {},
          "execution_count": 6
        }
      ]
    },
    {
      "cell_type": "code",
      "source": [
        "for x in range(3):\n",
        "  print(x)\n",
        "\n",
        "type(x)"
      ],
      "metadata": {
        "colab": {
          "base_uri": "https://localhost:8080/"
        },
        "id": "0GKYmOluIMA8",
        "outputId": "7e9197f3-6dff-4d6f-dad4-633bb6de6c4b"
      },
      "execution_count": null,
      "outputs": [
        {
          "output_type": "stream",
          "name": "stdout",
          "text": [
            "0\n",
            "1\n",
            "2\n"
          ]
        },
        {
          "output_type": "execute_result",
          "data": {
            "text/plain": [
              "int"
            ]
          },
          "metadata": {},
          "execution_count": 5
        }
      ]
    },
    {
      "cell_type": "code",
      "source": [
        "for y in range(10):\n",
        "  print(y)\n",
        "\n",
        "type(y)"
      ],
      "metadata": {
        "colab": {
          "base_uri": "https://localhost:8080/"
        },
        "id": "hyWzFaQLI7y_",
        "outputId": "61e62640-8590-4676-81f9-63e863e1d0dc"
      },
      "execution_count": null,
      "outputs": [
        {
          "output_type": "stream",
          "name": "stdout",
          "text": [
            "0\n",
            "1\n",
            "2\n",
            "3\n",
            "4\n",
            "5\n",
            "6\n",
            "7\n",
            "8\n",
            "9\n"
          ]
        },
        {
          "output_type": "execute_result",
          "data": {
            "text/plain": [
              "int"
            ]
          },
          "metadata": {},
          "execution_count": 9
        }
      ]
    },
    {
      "cell_type": "code",
      "source": [
        "for z in range(0):\n",
        "  print(z)\n",
        "\n",
        "#type(y) #NameError: name 'y' is not defined"
      ],
      "metadata": {
        "id": "-k9JKHlmIZEk"
      },
      "execution_count": null,
      "outputs": []
    },
    {
      "cell_type": "code",
      "source": [
        "list_fruit = [\"apple\", \"banana\", \"grape\", \"strawberry\", \"pear\", \"mango\"]\n",
        "\n",
        "for i in list_fruit:\n",
        "  print(i)"
      ],
      "metadata": {
        "id": "n-UaDN7R3aCF",
        "outputId": "59be757e-8dd9-4a02-d132-ac456378b0e9",
        "colab": {
          "base_uri": "https://localhost:8080/"
        }
      },
      "execution_count": null,
      "outputs": [
        {
          "output_type": "stream",
          "name": "stdout",
          "text": [
            "apple\n",
            "banana\n",
            "grape\n",
            "strawberry\n",
            "pear\n",
            "mango\n"
          ]
        }
      ]
    },
    {
      "cell_type": "code",
      "source": [
        "string ='abcde'\n",
        "\n",
        "for c in string:\n",
        "  print(c)"
      ],
      "metadata": {
        "id": "d9PHvLnFPXJb",
        "outputId": "5394e0c6-7bcc-4f66-d1cb-d3a60fd64823",
        "colab": {
          "base_uri": "https://localhost:8080/"
        }
      },
      "execution_count": null,
      "outputs": [
        {
          "output_type": "stream",
          "name": "stdout",
          "text": [
            "a\n",
            "b\n",
            "c\n",
            "d\n",
            "e\n"
          ]
        }
      ]
    },
    {
      "cell_type": "code",
      "source": [
        "list_int = [1,2,3,4,5]\n",
        "\n",
        "for c in list_int:\n",
        "  print(c)"
      ],
      "metadata": {
        "id": "OkVfgB8RQNTW",
        "outputId": "79c79224-5e6d-4d28-b910-84fd76f3931a",
        "colab": {
          "base_uri": "https://localhost:8080/"
        }
      },
      "execution_count": null,
      "outputs": [
        {
          "output_type": "stream",
          "name": "stdout",
          "text": [
            "1\n",
            "2\n",
            "3\n",
            "4\n",
            "5\n",
            "1\n",
            "[0]\n"
          ]
        }
      ]
    },
    {
      "cell_type": "code",
      "source": [
        "#@markdown 💊 **Compare!**\n",
        "print(list_int[0])\n",
        "print([0])"
      ],
      "metadata": {
        "id": "ghvxdKMUKyXj",
        "outputId": "f2c2e1bc-96db-4f35-e822-3e53dbee3905",
        "colab": {
          "base_uri": "https://localhost:8080/"
        }
      },
      "execution_count": null,
      "outputs": [
        {
          "output_type": "stream",
          "name": "stdout",
          "text": [
            "1\n",
            "[0]\n"
          ]
        }
      ]
    },
    {
      "cell_type": "code",
      "source": [
        "dict1 = {'a':97, 'b':98, 'c':99}\n",
        "\n",
        "for i in dict1:\n",
        "  print(i)"
      ],
      "metadata": {
        "id": "rQ3TOnzFQVLH",
        "outputId": "b89ddafe-2f62-4142-d2e6-1b420019ce33",
        "colab": {
          "base_uri": "https://localhost:8080/"
        }
      },
      "execution_count": null,
      "outputs": [
        {
          "output_type": "stream",
          "name": "stdout",
          "text": [
            "a\n",
            "b\n",
            "c\n"
          ]
        }
      ]
    },
    {
      "cell_type": "code",
      "source": [
        "dict2 = {'a':100, 'b':200, 'c':300}\n",
        "\n",
        "for i in dict2:\n",
        "  print(i)"
      ],
      "metadata": {
        "colab": {
          "base_uri": "https://localhost:8080/"
        },
        "id": "tR_8K-_UNYX2",
        "outputId": "34dd54b2-43f8-4a88-e5dd-1077f47ebfc9"
      },
      "execution_count": null,
      "outputs": [
        {
          "output_type": "stream",
          "name": "stdout",
          "text": [
            "a\n",
            "b\n",
            "c\n"
          ]
        }
      ]
    },
    {
      "cell_type": "code",
      "source": [
        "#@markdown 💊 **Compare between print(dictionary['a']) & print(['a']) to print a value, not a key.**\n",
        "\n",
        "print(dict2['a'])\n",
        "print(['a'])"
      ],
      "metadata": {
        "id": "PicaMEUyLEBw",
        "outputId": "312e9a20-d30f-45f1-d5fc-51d92006220d",
        "colab": {
          "base_uri": "https://localhost:8080/"
        }
      },
      "execution_count": null,
      "outputs": [
        {
          "output_type": "stream",
          "name": "stdout",
          "text": [
            "100\n",
            "['a']\n"
          ]
        }
      ]
    },
    {
      "cell_type": "code",
      "source": [
        "#@markdown 💣 <font color = 'red'>**Indeces are not compatible with dictionary-type data**\n",
        "\n",
        "print(dict2[0])"
      ],
      "metadata": {
        "id": "ecRnp5N7LcYX",
        "outputId": "9adf8b90-fe48-4033-b0ff-60f1b5ea1347",
        "colab": {
          "base_uri": "https://localhost:8080/",
          "height": 220
        }
      },
      "execution_count": null,
      "outputs": [
        {
          "output_type": "error",
          "ename": "KeyError",
          "evalue": "ignored",
          "traceback": [
            "\u001b[0;31m---------------------------------------------------------------------------\u001b[0m",
            "\u001b[0;31mKeyError\u001b[0m                                  Traceback (most recent call last)",
            "\u001b[0;32m<ipython-input-17-c3f626750e34>\u001b[0m in \u001b[0;36m<cell line: 3>\u001b[0;34m()\u001b[0m\n\u001b[1;32m      1\u001b[0m \u001b[0;31m#@markdown 💣 <font color = 'red'>**Indeces are not compatible with dictionary-type data**\u001b[0m\u001b[0;34m\u001b[0m\u001b[0;34m\u001b[0m\u001b[0m\n\u001b[1;32m      2\u001b[0m \u001b[0;34m\u001b[0m\u001b[0m\n\u001b[0;32m----> 3\u001b[0;31m \u001b[0mprint\u001b[0m\u001b[0;34m(\u001b[0m\u001b[0mdict2\u001b[0m\u001b[0;34m[\u001b[0m\u001b[0;36m0\u001b[0m\u001b[0;34m]\u001b[0m\u001b[0;34m)\u001b[0m\u001b[0;34m\u001b[0m\u001b[0;34m\u001b[0m\u001b[0m\n\u001b[0m",
            "\u001b[0;31mKeyError\u001b[0m: 0"
          ]
        }
      ]
    },
    {
      "cell_type": "code",
      "source": [
        "for c in range(10):\n",
        "  print(c)"
      ],
      "metadata": {
        "id": "1_rjDUvqQpDk",
        "outputId": "0e258c30-bad6-48ce-87b0-eea9e3812834",
        "colab": {
          "base_uri": "https://localhost:8080/"
        }
      },
      "execution_count": null,
      "outputs": [
        {
          "output_type": "stream",
          "name": "stdout",
          "text": [
            "0\n",
            "1\n",
            "2\n",
            "3\n",
            "4\n",
            "5\n",
            "6\n",
            "7\n",
            "8\n",
            "9\n"
          ]
        }
      ]
    },
    {
      "cell_type": "markdown",
      "source": [
        "# 🅱️  FOR ~: IF ~: CONTINUE... ELSE: BREAK\n",
        "\n",
        "    for 구성요소 혹은 아래 코드라인 변수 in 범위:\n",
        "      ...\n",
        "      continue    # 다음 반복문 수행\n",
        "      ...\n",
        "      break       # for 반복문 탈출"
      ],
      "metadata": {
        "id": "t3GvOWsWQ1bi"
      }
    },
    {
      "cell_type": "code",
      "source": [
        "scope=[1,2,3,4,5]\n",
        "\n",
        "for i in scope:\n",
        "  print(i)        #화면에 해당 정수를 출력한 후 그 수가 3 보다 작으면 그 다음 숫자를 출력하고, 3 보다 크거나 같으면 종료\n",
        "  if i<3:\n",
        "    continue      # 이 경우 continue 없이도 코드라인 작성 가능\n",
        "  else:\n",
        "    break"
      ],
      "metadata": {
        "id": "dlwhZZ_oRQaQ",
        "outputId": "df411d76-475b-4d8f-b6b3-1e509e48a8f8",
        "colab": {
          "base_uri": "https://localhost:8080/"
        }
      },
      "execution_count": null,
      "outputs": [
        {
          "output_type": "stream",
          "name": "stdout",
          "text": [
            "1\n",
            "2\n",
            "3\n"
          ]
        }
      ]
    },
    {
      "cell_type": "markdown",
      "source": [
        "#🅾️ FOR ~: ELSE ~:\n",
        "\n",
        "    for 변수 in 범위:\n",
        "      반복 실행 코드\n",
        "    else:       \n",
        "      for 구문이 모두 실행되었을 때 실행할 코드"
      ],
      "metadata": {
        "id": "znGW0EEdS7Qq"
      }
    },
    {
      "cell_type": "code",
      "source": [
        "scope = [1,2,3,4,5]\n",
        "\n",
        "for x in scope:\n",
        "  print(x)\n",
        "else:                 #반복문이 break에 의해 중단됨 없이 정상적으로 모두 실행되어야만 특정 코드 실행할 경우 FOR ~ ELSE 사용\n",
        "  print('Perfect')\n",
        "\n",
        "                      #파이썬200제에는 print (x) 다음에 break 코드라인이 있는데, 이것은 원소가 범위에 있을 때 결과를 보여주는게 1 개 밖에 안된다. 실수로 넣은 코드라인으로 보인다. 이 예제는 아래에 따로 코드라인을 작성했다.\n"
      ],
      "metadata": {
        "id": "hQ3XN0KKTXvh",
        "outputId": "91ffae41-5b80-4d00-a325-42538495bb87",
        "colab": {
          "base_uri": "https://localhost:8080/"
        }
      },
      "execution_count": null,
      "outputs": [
        {
          "output_type": "stream",
          "name": "stdout",
          "text": [
            "1\n",
            "2\n",
            "3\n",
            "4\n",
            "5\n",
            "Perfect\n"
          ]
        }
      ]
    },
    {
      "cell_type": "markdown",
      "source": [
        "# 💊 **Compare!**"
      ],
      "metadata": {
        "id": "UGZKjbMuQIct"
      }
    },
    {
      "cell_type": "code",
      "source": [
        "#@markdown 💀 IT seems an imperfect example from 파이썬200제.\n",
        "list = [1,2,3]\n",
        "for i in list:\n",
        "  print(i)\n",
        "  break ##파이썬200제에는 print (x) 다음에 break 코드라인이 있는데, 이것은 요소가 범위에 있을 때 결과를 보여주는게 1 개 밖에 안된다. 실수로 넣은 코드라인으로 보인다.\n",
        "else:\n",
        "  print('Perfect')\n"
      ],
      "metadata": {
        "id": "dHBVuZaLeigp",
        "outputId": "cdc33a08-0eb4-4b38-8c32-f9fe7a17807a",
        "colab": {
          "base_uri": "https://localhost:8080/"
        }
      },
      "execution_count": null,
      "outputs": [
        {
          "output_type": "stream",
          "name": "stdout",
          "text": [
            "1\n"
          ]
        }
      ]
    }
  ]
}